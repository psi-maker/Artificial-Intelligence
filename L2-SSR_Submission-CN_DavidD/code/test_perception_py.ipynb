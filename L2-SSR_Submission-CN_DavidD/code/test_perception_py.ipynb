{
 "cells": [
  {
   "cell_type": "markdown",
   "metadata": {},
   "source": [
    "# Perception.py test\n",
    "- for more accurate result, OTSU theory can be used. but use static parameter here in order to balance the accurate & program speed\n",
    "- added rock_thresh() for image rock thresholding"
   ]
  },
  {
   "cell_type": "code",
   "execution_count": 1,
   "metadata": {
    "collapsed": true
   },
   "outputs": [],
   "source": [
    "%matplotlib inline\n",
    "\n",
    "import numpy as np\n",
    "import cv2\n",
    "\n",
    "\n",
    "import matplotlib.image as mpimg\n",
    "import matplotlib.pyplot as plt\n",
    "import scipy.misc\n",
    "import time"
   ]
  },
  {
   "cell_type": "code",
   "execution_count": 2,
   "metadata": {
    "collapsed": true
   },
   "outputs": [],
   "source": [
    "# Identify pixels above the threshold\n",
    "# Threshold of RGB > 160 does a nice job of identifying ground pixels only\n",
    "#OTSU thresholding function\n",
    "def otsu_threshold(im):\n",
    "    pixel_counts = [np.sum(im == i) for i in range(256)]\n",
    "    s_max = (0,-1)\n",
    "    ss = []\n",
    "    for threshold in range(256):\n",
    "        w_0 = sum(pixel_counts[:threshold]) #  pixels below the threshold\n",
    "        w_1 = sum(pixel_counts[threshold:]) \n",
    "        mu_0 = sum([i * pixel_counts[i] for i in range(0,threshold)]) / w_0 if w_0 > 0 else 0\n",
    "        # pixels average value below the threshold\n",
    "        mu_1 = sum([i * pixel_counts[i] for i in range(threshold, 256)]) / w_1 if w_1 > 0 else 0\n",
    "        # formula\n",
    "        s = 1.0 * w_0 * w_1 * (mu_0 - mu_1) ** 2\n",
    "        # Integer overflow if use w_0 * w_1 directly, then * 1.0 to float\n",
    "        ss.append(s)\n",
    "        # get the max value\n",
    "        if s > s_max[1]:\n",
    "            s_max = (threshold, s)\n",
    "    return s_max[0]\n",
    "\n",
    "\n",
    "def color_thresh(img): \n",
    "    #otsu_red = otsu_threshold((img[:,:,0]))\n",
    "    #otsu_green = otsu_threshold((img[:,:,1]))\n",
    "    #otsu_blue = otsu_threshold((img[:,:,2]))\n",
    "    otsu_red = 160\n",
    "    otsu_green = 160\n",
    "    otsu_blue = 160\n",
    "    #print(otsu_red,otsu_green,otsu_blue)\n",
    "    # Create an array of zeros same xy size as img, but single channel\n",
    "    color_select = np.zeros_like(img[:,:,0])\n",
    "    # Require that each pixel be above all three threshold values in RGB\n",
    "    # above_thresh will now contain a boolean array with \"True\"\n",
    "    # where threshold was met\n",
    "    above_thresh = (img[:,:,0] > otsu_red) \\\n",
    "                & (img[:,:,1] > otsu_green) \\\n",
    "                & (img[:,:,2] > otsu_blue)\n",
    "    # Index the array of zeros with the boolean array and set to 1\n",
    "    color_select[above_thresh] = 1\n",
    "    #print(str(color_select))\n",
    "    # Return the binary image\n",
    "    return color_select\n",
    "\n",
    "# Define a function to convert from image coords to rover coords\n",
    "def rover_coords(binary_img):\n",
    "    # Identify nonzero pixels\n",
    "    ypos, xpos = binary_img.nonzero()\n",
    "    # Calculate pixel positions with reference to the rover position being at the \n",
    "    # center bottom of the image.  \n",
    "    x_pixel = -(ypos - binary_img.shape[0]).astype(np.float)\n",
    "    y_pixel = -(xpos - binary_img.shape[1]/2 ).astype(np.float)\n",
    "    return x_pixel, y_pixel\n",
    "\n",
    "\n",
    "# Define a function to convert to radial coords in rover space\n",
    "def to_polar_coords(x_pixel, y_pixel):\n",
    "    # Convert (x_pixel, y_pixel) to (distance, angle) \n",
    "    # in polar coordinates in rover space\n",
    "    # Calculate distance to each pixel\n",
    "    dist = np.sqrt(x_pixel**2 + y_pixel**2)\n",
    "    # Calculate angle away from vertical for each pixel\n",
    "    angles = np.arctan2(y_pixel, x_pixel)\n",
    "    return dist, angles\n",
    "\n",
    "# Define a function to map rover space pixels to world space\n",
    "def rotate_pix(xpix, ypix, yaw):\n",
    "    # Convert yaw to radians\n",
    "    yaw_rad = yaw * np.pi / 180\n",
    "    xpix_rotated = (xpix * np.cos(yaw_rad)) - (ypix * np.sin(yaw_rad))\n",
    "                            \n",
    "    ypix_rotated = (xpix * np.sin(yaw_rad)) + (ypix * np.cos(yaw_rad))\n",
    "    # Return the result  \n",
    "    return xpix_rotated, ypix_rotated\n",
    "\n",
    "def translate_pix(xpix_rot, ypix_rot, xpos, ypos, scale): \n",
    "    # Apply a scaling and a translation\n",
    "    xpix_translated = (xpix_rot / scale) + xpos\n",
    "    ypix_translated = (ypix_rot / scale) + ypos\n",
    "    # Return the result  \n",
    "    return xpix_translated, ypix_translated\n",
    "\n",
    "\n",
    "# Define a function to apply rotation and translation (and clipping)\n",
    "# Once you define the two functions above this function should work\n",
    "def pix_to_world(xpix, ypix, xpos, ypos, yaw, world_size, scale):\n",
    "    # Apply rotation\n",
    "    xpix_rot, ypix_rot = rotate_pix(xpix, ypix, yaw)\n",
    "    # Apply translation\n",
    "    xpix_tran, ypix_tran = translate_pix(xpix_rot, ypix_rot, xpos, ypos, scale)\n",
    "    # Perform rotation, translation and clipping all at once\n",
    "    x_pix_world = np.clip(np.int_(xpix_tran), 0, world_size - 1)\n",
    "    y_pix_world = np.clip(np.int_(ypix_tran), 0, world_size - 1)\n",
    "    # Return the result\n",
    "    return x_pix_world, y_pix_world\n",
    "\n",
    "# Define a function to perform a perspective transform\n",
    "def perspect_transform(img, src, dst):\n",
    "           \n",
    "    M = cv2.getPerspectiveTransform(src, dst)\n",
    "    warped = cv2.warpPerspective(img, M, (img.shape[1], img.shape[0]))# keep same size as input image\n",
    "    \n",
    "    return warped\n",
    "\n",
    "\n",
    "# Apply the above functions in succession and update the Rover state accordingly\n",
    "def perception_step(Rover):\n",
    "    # Perform perception steps to update Rover()\n",
    "    # TODO: \n",
    "    # NOTE: camera image is coming to you in Rover.img\n",
    "    # 1) Define source and destination points for perspective transform\n",
    "    # 2) Apply perspective transform    \n",
    "    # 3) Apply color threshold to identify navigable terrain/obstacles/rock samples\n",
    "    # 4) Update Rover.vision_image (this will be displayed on left side of screen)\n",
    "        # Example: Rover.vision_image[:,:,0] = obstacle color-thresholded binary image\n",
    "        #          Rover.vision_image[:,:,1] = rock_sample color-thresholded binary image\n",
    "        #          Rover.vision_image[:,:,2] = navigable terrain color-thresholded binary image\n",
    "\n",
    "    # 5) Convert map image pixel values to rover-centric coords\n",
    "    # 6) Convert rover-centric pixel values to world coordinates\n",
    "    # 7) Update Rover worldmap (to be displayed on right side of screen)\n",
    "        # Example: Rover.worldmap[obstacle_y_world, obstacle_x_world, 0] += 1\n",
    "        #          Rover.worldmap[rock_y_world, rock_x_world, 1] += 1\n",
    "        #          Rover.worldmap[navigable_y_world, navigable_x_world, 2] += 1\n",
    "\n",
    "    # 8) Convert rover-centric pixel positions to polar coordinates\n",
    "    # Update Rover pixel distances and angles\n",
    "        # Rover.nav_dists = rover_centric_pixel_distances\n",
    "        # Rover.nav_angles = rover_centric_angles\n",
    "    \n",
    " \n",
    "    \n",
    "    \n",
    "    return Rover"
   ]
  },
  {
   "cell_type": "markdown",
   "metadata": {},
   "source": [
    "## Define source and DST"
   ]
  },
  {
   "cell_type": "code",
   "execution_count": 3,
   "metadata": {
    "collapsed": true
   },
   "outputs": [],
   "source": [
    "example_rock = '../calibration_images/example_rock1.jpg'\n",
    "rock_img = mpimg.imread(example_rock)\n",
    "\n",
    "hsv_lower_yellow = np.array([93, 173, 131])\n",
    "hsv_upper_yellow = np.array([98, 255, 182])\n",
    "def rock_thresh(wp_img):\n",
    "    hsv = cv2.cvtColor(wp_img, cv2.COLOR_BGR2HSV)\n",
    "    # Threshold the HSV image to get only yellow colors\n",
    "    mask = cv2.inRange(hsv, hsv_lower_yellow, hsv_upper_yellow)\n",
    "    #bitwise-AND: overlay the mask image and original image\n",
    "    res = cv2.bitwise_and(wp_img, wp_img, mask = mask)\n",
    "    return mask, res\n",
    "\n",
    "dst_size = 5 \n",
    "    # Set a bottom offset to account for the fact that the bottom of the image \n",
    "    # is not the position of the rover but a bit in front of it\n",
    "bottom_offset = 6\n",
    "source = np.float32([[14, 140], [301 ,140],[200, 96], [118, 96]])\n",
    "destination = np.float32([[rock_img.shape[1]/2 - dst_size, rock_img.shape[0] - bottom_offset],\n",
    "                      [rock_img.shape[1]/2 + dst_size, rock_img.shape[0] - bottom_offset],\n",
    "                      [rock_img.shape[1]/2 + dst_size, rock_img.shape[0] - 2*dst_size - bottom_offset], \n",
    "                      [rock_img.shape[1]/2 - dst_size, rock_img.shape[0] - 2*dst_size - bottom_offset],\n",
    "                      ])"
   ]
  },
  {
   "cell_type": "markdown",
   "metadata": {},
   "source": [
    "## Apply perspective transform"
   ]
  },
  {
   "cell_type": "code",
   "execution_count": 4,
   "metadata": {
    "collapsed": true
   },
   "outputs": [],
   "source": [
    "wponly_img = perspect_transform(rock_img,source,destination) "
   ]
  },
  {
   "cell_type": "markdown",
   "metadata": {},
   "source": [
    "## Apply color threshold to identify navigable terrain/obstacles/rock samples"
   ]
  },
  {
   "cell_type": "code",
   "execution_count": 5,
   "metadata": {},
   "outputs": [
    {
     "name": "stdout",
     "output_type": "stream",
     "text": [
      "Warped Threshed Navigation : uint8 (160, 320) 0 1\n",
      "Warped Threshed Obstacle : uint8 (160, 320) 0 1\n",
      "Warped Threshed Rock Mask Value : uint8 (160, 320) 0 1\n"
     ]
    },
    {
     "data": {
      "text/plain": [
       "<matplotlib.image.AxesImage at 0x16c85bc3be0>"
      ]
     },
     "execution_count": 5,
     "metadata": {},
     "output_type": "execute_result"
    },
    {
     "data": {
      "image/png": "[encoded data removed]",
      "text/plain": [
       "<matplotlib.figure.Figure at 0x16c85c168d0>"
      ]
     },
     "metadata": {},
     "output_type": "display_data"
    }
   ],
   "source": [
    "#the rock lower and upper value is find from Slack Discussion, but should find the good way later\n",
    "wp_th_imgNavi = color_thresh(wponly_img)\n",
    "wp_th_imgObs = 1-wp_th_imgNavi\n",
    "    #wp_th_imgObs = ~wp_th_imgNavi\n",
    "wp_th_imgRock_mask, wp_th_imgRock_res = (rock_thresh(wponly_img))\n",
    "wp_th_imgRock_mask = (wp_th_imgRock_mask/255).astype(np.uint8)\n",
    "\n",
    "print('Warped Threshed Navigation : '+str(wp_th_imgNavi.dtype), wp_th_imgNavi.shape, np.min(wp_th_imgNavi), np.max(wp_th_imgNavi))\n",
    "print('Warped Threshed Obstacle : '+str(wp_th_imgObs.dtype), wp_th_imgObs.shape, np.min(wp_th_imgObs), np.max(wp_th_imgObs))\n",
    "print('Warped Threshed Rock Mask Value : '+str(wp_th_imgRock_mask.dtype), wp_th_imgRock_mask.shape, np.min(wp_th_imgRock_mask), np.max(wp_th_imgRock_mask))\n",
    "\n",
    "fig = plt.figure(figsize=(12,6))\n",
    "plt.subplot(221)\n",
    "plt.title('Warped-Threshed Navi')\n",
    "plt.imshow(wp_th_imgNavi+wp_th_imgRock_mask)\n",
    "plt.subplot(222)\n",
    "plt.title('Warped-Threshed Obs')\n",
    "plt.imshow(wp_th_imgObs)\n",
    "plt.subplot(223)\n",
    "plt.title('Warped-Threshed Rock')\n",
    "plt.imshow(wp_th_imgRock_mask)\n",
    "plt.subplot(224)\n",
    "plt.title('Warped')\n",
    "plt.imshow(wponly_img)"
   ]
  },
  {
   "cell_type": "markdown",
   "metadata": {},
   "source": [
    "## Update Rover.vision_image (this will be displayed on left side of screen)"
   ]
  },
  {
   "cell_type": "code",
   "execution_count": 6,
   "metadata": {
    "scrolled": true
   },
   "outputs": [
    {
     "data": {
      "text/plain": [
       "<matplotlib.image.AxesImage at 0x16c870eed68>"
      ]
     },
     "execution_count": 6,
     "metadata": {},
     "output_type": "execute_result"
    },
    {
     "data": {
      "image/png": "[encoded data removed]",
      "text/plain": [
       "<matplotlib.figure.Figure at 0x16c843b06d8>"
      ]
     },
     "metadata": {},
     "output_type": "display_data"
    }
   ],
   "source": [
    "r_v_img = np.zeros((rock_img.shape[0],rock_img.shape[1],3)).astype(np.uint8)\n",
    "\n",
    "y_navi, x_navi = wp_th_imgNavi.nonzero()\n",
    "y_obs, x_obs = wp_th_imgObs.nonzero()\n",
    "y_rock, x_rock = wp_th_imgRock_mask.nonzero()\n",
    "\n",
    "r_v_img[:,:,0] =  wp_th_imgObs\n",
    "r_v_img[:,:,1] = wp_th_imgRock_mask\n",
    "r_v_img[:,:,2] = wp_th_imgNavi\n",
    "\n",
    "fig = plt.figure(figsize=(30,15))\n",
    "plt.title('Overlay dif color')\n",
    "plt.subplot(221)\n",
    "plt.imshow(r_v_img*255)\n"
   ]
  },
  {
   "cell_type": "markdown",
   "metadata": {},
   "source": [
    "## Convert map image pixel values to rover-centric coords"
   ]
  },
  {
   "cell_type": "code",
   "execution_count": null,
   "metadata": {
    "collapsed": true
   },
   "outputs": [],
   "source": []
  },
  {
   "cell_type": "code",
   "execution_count": 7,
   "metadata": {
    "scrolled": true
   },
   "outputs": [
    {
     "name": "stdout",
     "output_type": "stream",
     "text": [
      "OBS pixels= 16\n",
      "Navi pixels= 144\n"
     ]
    },
    {
     "data": {
      "text/plain": [
       "(0, 160)"
      ]
     },
     "execution_count": 7,
     "metadata": {},
     "output_type": "execute_result"
    },
    {
     "data": {
      "image/png": "[encoded data removed]",
      "text/plain": [
       "<matplotlib.figure.Figure at 0x16c8718f780>"
      ]
     },
     "metadata": {},
     "output_type": "display_data"
    }
   ],
   "source": [
    "x_obs_rc, y_obs_rc = rover_coords(wp_th_imgObs)\n",
    "x_rock_rc, y_rock_rc = rover_coords(wp_th_imgRock_mask)\n",
    "x_navi_rc, y_navi_rc = rover_coords(wp_th_imgNavi+wp_th_imgRock_mask)\n",
    "\n",
    "#dist_1, angel_1 = to_polar_coords(x_navi_rc, y_navi_rc)\n",
    "#print('max navi_angel='+str(np.amax(angel_1)* 180/np.pi))\n",
    "#print('Min navi_agle='+ str(np.amin(angel_1)* 180/np.pi))\n",
    "#d, a = to_polar_coords(x_navi_rc, y_navi_rc)\n",
    "#print('Polar angel = '+str(a))\n",
    "#print(np.clip(np.mean(a * 180/np.pi), -15, 15))\n",
    "\n",
    "X_ymin =x_navi_rc[y_navi_rc == np.amin(y_navi_rc)]\n",
    "Ymin = np.zeros(len(X_ymin)) + np.amin(y_navi_rc)\n",
    "#b = to_polar_coords(X_ymin, Ymin)[1]\n",
    "#print('Ymin= ' + str(Ymin))\n",
    "#print('X_ymin= '+str(X_ymin))\n",
    "#print(b)\n",
    "#print(np.clip(np.mean(b * 180/np.pi), -15, 0))\n",
    "#def radar_scan(x_navi_rc,y_navi_rc,x_obs_rc,y_obs_rc) :\n",
    "\n",
    "def radar_scan(x_navi_rc,y_navi_rc,x_obs_rc,y_obs_rc) :\n",
    "    \n",
    "    dist_navi,angle_navi = to_polar_coords(x_navi_rc,y_navi_rc)\n",
    "    dist_navi_front = dist_navi[(6 <= dist_navi) & (dist_navi < 15)]\n",
    "    angle_navi_front = angle_navi[(6 <= dist_navi) & (dist_navi < 15)]\n",
    "    \n",
    "    dist_obs,angle_obs = to_polar_coords(x_obs_rc,y_obs_rc)\n",
    "    dist_obs_front = dist_obs[(6 <= dist_obs) & (dist_obs < 15)]\n",
    "    angle_obs_front = angle_obs[(6 <= dist_obs) & (dist_obs < 15)]\n",
    "    \n",
    "    angle_obs_in_navi = np.copy(angle_obs_front)\n",
    "    dist_obs_in_navi = np.copy(dist_obs_front)\n",
    "    angle_navi_shrink = np.copy(angle_navi_front)\n",
    "    dist_navi_shrink = np.copy(dist_navi_front)\n",
    "    if len(angle_navi_front) > 0 :\n",
    "        angle_obs_in_navi = angle_obs_front[(angle_obs_front <= np.amax(angle_navi_front)) & (angle_obs_front >=np.amin(angle_navi_front))]\n",
    "        dist_obs_in_navi = dist_obs_front[(angle_obs_front <= np.amax(angle_navi_front)) & (angle_obs_front >=np.amin(angle_navi_front))]\n",
    "        \n",
    "    return dist_navi_shrink,angle_navi_shrink,dist_obs_in_navi,angle_obs_in_navi\n",
    "    \n",
    "print('OBS pixels= '+str(len(radar_scan(x_navi_rc,y_navi_rc,x_obs_rc,y_obs_rc)[2])))\n",
    "print('Navi pixels= '+str(len(radar_scan(x_navi_rc,y_navi_rc,x_obs_rc,y_obs_rc)[0])))\n",
    "#print('Navi mean angle = '+ str(np.mean(radar_scan(x_navi_rc,y_navi_rc,x_obs_rc,y_obs_rc)[1]* 180/np.pi)))\n",
    "#print('OBS mean angle= '+str(np.mean(radar_scan(x_navi_rc,y_navi_rc,x_obs_rc,y_obs_rc)[3]* 180/np.pi)))\n",
    "\n",
    "navix_front =  radar_scan(x_navi_rc,y_navi_rc,x_obs_rc,y_obs_rc)[0]*np.cos(radar_scan(x_navi_rc,y_navi_rc,x_obs_rc,y_obs_rc)[1])\n",
    "naviy_front = radar_scan(x_navi_rc,y_navi_rc,x_obs_rc,y_obs_rc)[0]*np.sin(radar_scan(x_navi_rc,y_navi_rc,x_obs_rc,y_obs_rc)[1])\n",
    "obsx_front = radar_scan(x_navi_rc,y_navi_rc,x_obs_rc,y_obs_rc)[2]*np.cos(radar_scan(x_navi_rc,y_navi_rc,x_obs_rc,y_obs_rc)[3])\n",
    "obsy_front = radar_scan(x_navi_rc,y_navi_rc,x_obs_rc,y_obs_rc)[2]*np.sin(radar_scan(x_navi_rc,y_navi_rc,x_obs_rc,y_obs_rc)[3])\n",
    "\n",
    "\n",
    "#print('Navi & Obs radial coords ARRAY within 2 meter: '+str(radar_scan_2m(x_navi_rc,y_navi_rc,x_obs_rc,y_obs_rc)))    \n",
    "            \n",
    "#print(angel_obs_in_navi* 180/np.pi,dist_obs_in_navi)\n",
    "# print(np.amax(angel_navi_front)* 180/np.pi,np.amin(angel_navi_front)* 180/np.pi)    \n",
    "#    print('Counter barrier'+str(counter)+' = '+ str(dist_obs_front[angel_obs_front ==angel_navi_front[counter]]))           \n",
    "\n",
    "\n",
    "#print('OBS 4 m to polar angel'+str(angel_obs_4m))\n",
    "\n",
    "#\n",
    "fig = plt.figure(figsize=(40,20))\n",
    "plt.subplot(121)\n",
    "plt.plot(x_obs_rc,y_obs_rc, 'w.', x_navi_rc, y_navi_rc, 'g.',x_rock_rc,y_rock_rc, 'b.',navix_front, naviy_front,'r.',obsx_front,obsy_front,'k.')\n",
    "plt.title('Rover-centric')\n",
    "\n",
    "#plt.ylim(-160, 160)\n",
    "plt.ylim(- rock_img.shape[1]/2,  rock_img.shape[1]/2)\n",
    "plt.xlim(0, rock_img.shape[0])"
   ]
  },
  {
   "cell_type": "markdown",
   "metadata": {},
   "source": [
    "## Convert rover-centric pixel values to world coordinates"
   ]
  },
  {
   "cell_type": "code",
   "execution_count": 8,
   "metadata": {
    "scrolled": true
   },
   "outputs": [
    {
     "name": "stdout",
     "output_type": "stream",
     "text": [
      "Ground truth : float32 (200, 200) 0.0 1.0\n",
      "Ground truth 3D : float64 (200, 200, 3) 0.0 255.0\n",
      "map_add : float64 (200, 200, 3) 0.0 127.5\n"
     ]
    },
    {
     "data": {
      "image/png": "[encoded data removed]",
      "text/plain": [
       "<matplotlib.figure.Figure at 0x16c85b66e80>"
      ]
     },
     "metadata": {},
     "output_type": "display_data"
    }
   ],
   "source": [
    "\n",
    "ground_truth = mpimg.imread('../calibration_images/map_bw.png')\n",
    "ground_truth_3d = np.dstack((ground_truth*0, ground_truth*255, ground_truth*0)).astype(np.float)\n",
    "\n",
    "#RGB(0,255,0) = lime color\n",
    "worldmap = np.zeros((200, 200, 3)).astype(np.float)\n",
    "map_add = cv2.addWeighted(worldmap, 1, ground_truth_3d, 0.5, 0)\n",
    "print('Ground truth : '+str(ground_truth.dtype), ground_truth.shape, np.min(ground_truth), np.max(ground_truth))\n",
    "print('Ground truth 3D : '+str(ground_truth_3d.dtype), ground_truth_3d.shape, np.min(ground_truth_3d), np.max(ground_truth_3d))\n",
    "print('map_add : '+str(map_add.dtype), map_add.shape, np.min(map_add), np.max(map_add))\n",
    "\n",
    "\n",
    "fig = plt.figure(figsize=(12,5))\n",
    "plt.title('Worldmap')\n",
    "plt.imshow(map_add.astype(np.uint8))\n",
    "scipy.misc.imsave('../output/map_add.jpg', map_add)"
   ]
  },
  {
   "cell_type": "markdown",
   "metadata": {},
   "source": [
    "## Update Rover worldmap (to be displayed on right side of screen)"
   ]
  },
  {
   "cell_type": "code",
   "execution_count": 9,
   "metadata": {},
   "outputs": [
    {
     "name": "stdout",
     "output_type": "stream",
     "text": [
      "map_add : float64 (200, 200, 3) 0.0 255.0\n"
     ]
    },
    {
     "data": {
      "image/png": "[encoded data removed]",
      "text/plain": [
       "<matplotlib.figure.Figure at 0x16c87212588>"
      ]
     },
     "metadata": {},
     "output_type": "display_data"
    }
   ],
   "source": [
    "worldmap =  np.zeros((200, 200, 3), dtype=np.float)\n",
    "\n",
    "rover_yaw = np.random.random(1)*360\n",
    "rover_xpos = np.random.random(1)*160 + 20\n",
    "rover_ypos = np.random.random(1)*160 + 20\n",
    "\n",
    "x_navi_world, y_navi_world = pix_to_world(x_navi_rc, y_navi_rc, rover_xpos, \n",
    "                                rover_ypos, rover_yaw, \n",
    "                                200, 10)\n",
    "x_obs_world, y_obs_world = pix_to_world(x_obs_rc, y_obs_rc, rover_xpos, \n",
    "                                rover_ypos, rover_yaw, \n",
    "                                200, 10)\n",
    "x_rock_world, y_rock_world = pix_to_world(x_rock_rc, y_rock_rc, rover_xpos, \n",
    "                                rover_ypos, rover_yaw, \n",
    "                                200, 10)\n",
    "\n",
    "worldmap[y_obs_world, x_obs_world, 0] += 1\n",
    "worldmap[y_rock_world, x_rock_world, 1] += 1\n",
    "worldmap[y_navi_world, x_navi_world, 2] += 1\n",
    "\n",
    "map_add = cv2.addWeighted(worldmap*255, 1, ground_truth_3d, 0.5, 0)\n",
    "\n",
    "print('map_add : '+str(map_add.dtype), map_add.shape, np.min(map_add), np.max(map_add))\n",
    "\n",
    "plt.title('All map')\n",
    "plt.imshow((map_add).astype(np.uint8))\n",
    "scipy.misc.imsave('../output/all_map.jpg', map_add)"
   ]
  },
  {
   "cell_type": "markdown",
   "metadata": {},
   "source": [
    "## Convert rover-centric pixel positions to polar coordinates"
   ]
  },
  {
   "cell_type": "code",
   "execution_count": 10,
   "metadata": {
    "collapsed": true
   },
   "outputs": [],
   "source": [
    "# Update Rover pixel distances and angles\n",
    "# Rover.nav_dists = rover_centric_pixel_distances\n",
    "# Rover.nav_angles = rover_centric_angles\n"
   ]
  },
  {
   "cell_type": "code",
   "execution_count": 11,
   "metadata": {},
   "outputs": [
    {
     "name": "stdout",
     "output_type": "stream",
     "text": [
      "The min angles = -47.7263109939\n",
      "The max angles = 52.9801137452\n",
      "the navi area pixels dist < 2 are:  [ 7.          6.70820393  6.32455532  6.08276253  6.          6.08276253\n",
      "  6.32455532  6.70820393]\n",
      "angels with 8 = [ -0.          26.56505118  18.43494882   9.46232221  -0.          -9.46232221\n",
      " -18.43494882 -26.56505118]\n",
      "True\n"
     ]
    }
   ],
   "source": [
    "\n",
    "rc_dist, rc_angles = to_polar_coords(x_navi_rc, y_navi_rc)\n",
    "rc_avg_angle_real = np.mean(rc_angles * 180/np.pi)\n",
    "rc_avg_angle_clip = np.clip(np.mean(rc_angles * 180/np.pi), -15, 15)\n",
    "\n",
    "sort_rc_angles = np.sort(np.copy(rc_angles))\n",
    "sort_rc_dist = np.sort(np.copy(rc_dist))\n",
    "angle_len =  len(rc_angles[rc_angles < 0])\n",
    "#print('Rover.steer before clip = '+ str(rc_avg_angle_real))\n",
    "#print('Rover.steer after clip = '+ str(rc_avg_angle_clip))\n",
    "#print('all angles = ' + str(sort_rc_angles* 180/np.pi))\n",
    "#print('all dist = ' + str(sort_rc_dist))\n",
    "print('The min angles = '+str(np.amin(sort_rc_angles* 180/np.pi)))\n",
    "print('The max angles = '+str(np.amax(sort_rc_angles* 180/np.pi)))\n",
    "print('the navi area pixels dist < 2 are:  '+str(rc_dist[rc_dist<=7]))\n",
    "print('angels with 8 = '+str(rc_angles[rc_dist<=7]* 180/np.pi))\n",
    "print(np.any((sort_rc_angles* 180/np.pi) <= rc_avg_angle_real) & np.any((sort_rc_angles* 180/np.pi) > rc_avg_angle_real) & np.any(rc_dist))\n",
    "\n"
   ]
  },
  {
   "cell_type": "code",
   "execution_count": 12,
   "metadata": {},
   "outputs": [
    {
     "name": "stdout",
     "output_type": "stream",
     "text": [
      "[-18]\n"
     ]
    }
   ],
   "source": [
    "test_nb = np.int_(-15-np.random.random(1)*5)\n",
    "print(str(test_nb))"
   ]
  },
  {
   "cell_type": "code",
   "execution_count": 13,
   "metadata": {
    "collapsed": true
   },
   "outputs": [],
   "source": [
    "s_time = time.time()\n",
    "\n",
    " "
   ]
  },
  {
   "cell_type": "code",
   "execution_count": 14,
   "metadata": {},
   "outputs": [
    {
     "name": "stdout",
     "output_type": "stream",
     "text": [
      "9.21954445729\n"
     ]
    }
   ],
   "source": [
    "a = np.array([2,3])\n",
    "b =np.array([8, 10])\n",
    "\n",
    "y_dist = np.square(abs(a[0]-b[0]))\n",
    "x_dist = np.square(abs(a[1]-b[1]))\n",
    "\n",
    "\n",
    "print(np.sqrt(np.sum(np.square(abs(a-b)))))"
   ]
  },
  {
   "cell_type": "code",
   "execution_count": 15,
   "metadata": {},
   "outputs": [
    {
     "name": "stdout",
     "output_type": "stream",
     "text": [
      "True\n"
     ]
    }
   ],
   "source": [
    "# CDF should always be positive\n",
    "cdf = np.array([[0, 10, 0.01],[1, 2, 0.5]])\n",
    "\n",
    "print(np.any((0<= cdf) & (cdf <=1)))\n",
    "\n"
   ]
  },
  {
   "cell_type": "code",
   "execution_count": 16,
   "metadata": {},
   "outputs": [
    {
     "name": "stdout",
     "output_type": "stream",
     "text": [
      "3\n",
      "[[ 1  2  3  4]\n",
      " [ 9 10 11 12]]\n"
     ]
    }
   ],
   "source": [
    "arr = np.array([[ 1,  2,  3,  4],[ 5,  6,  7,  8],[ 9, 10, 11, 12]])\n",
    "print(len(arr))\n",
    "print(np.delete(arr, 1, 0))"
   ]
  },
  {
   "cell_type": "code",
   "execution_count": null,
   "metadata": {
    "collapsed": true
   },
   "outputs": [],
   "source": []
  },
  {
   "cell_type": "code",
   "execution_count": null,
   "metadata": {
    "collapsed": true
   },
   "outputs": [],
   "source": []
  }
 ],
 "metadata": {
  "kernelspec": {
   "display_name": "Python [conda env:RoboND]",
   "language": "python",
   "name": "conda-env-RoboND-py"
  },
  "language_info": {
   "codemirror_mode": {
    "name": "ipython",
    "version": 3
   },
   "file_extension": ".py",
   "mimetype": "text/x-python",
   "name": "python",
   "nbconvert_exporter": "python",
   "pygments_lexer": "ipython3",
   "version": "3.5.2"
  },
  "latex_envs": {
   "LaTeX_envs_menu_present": true,
   "autocomplete": true,
   "bibliofile": "biblio.bib",
   "cite_by": "apalike",
   "current_citInitial": 1,
   "eqLabelWithNumbers": true,
   "eqNumInitial": 1,
   "hotkeys": {
    "equation": "Ctrl-E",
    "itemize": "Ctrl-I"
   },
   "labels_anchors": false,
   "latex_user_defs": false,
   "report_style_numbering": false,
   "user_envs_cfg": false
  },
  "toc": {
   "nav_menu": {
    "height": "12px",
    "width": "252px"
   },
   "number_sections": true,
   "sideBar": true,
   "skip_h1_title": false,
   "toc_cell": false,
   "toc_position": {},
   "toc_section_display": "block",
   "toc_window_display": false
  },
  "widgets": {
   "state": {},
   "version": "1.1.2"
  }
 },
 "nbformat": 4,
 "nbformat_minor": 2
}
