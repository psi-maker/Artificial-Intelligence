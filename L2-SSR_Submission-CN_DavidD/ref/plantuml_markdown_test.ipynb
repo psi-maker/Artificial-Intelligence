{
 "cells": [
  {
   "cell_type": "code",
   "execution_count": 11,
   "metadata": {
    "collapsed": true
   },
   "outputs": [],
   "source": [
    "%load_ext plantuml"
   ]
  },
  {
   "cell_type": "code",
   "execution_count": 12,
   "metadata": {},
   "outputs": [
    {
     "data": {
      "image/svg+xml": [
       "<svg contentScriptType=\"application/ecmascript\" contentStyleType=\"text/css\" height=\"167px\" preserveAspectRatio=\"none\" style=\"width:229px;height:167px;\" version=\"1.1\" viewBox=\"0 0 229 167\" width=\"229px\" xmlns=\"http://www.w3.org/2000/svg\" xmlns:xlink=\"http://www.w3.org/1999/xlink\" zoomAndPan=\"magnify\"><defs><filter height=\"300%\" id=\"fsv0g7ub4djg1\" width=\"300%\" x=\"-1\" y=\"-1\"><feGaussianBlur result=\"blurOut\" stdDeviation=\"2.0\"/><feColorMatrix in=\"blurOut\" result=\"blurOut2\" type=\"matrix\" values=\"0 0 0 0 0 0 0 0 0 0 0 0 0 0 0 0 0 0 .4 0\"/><feOffset dx=\"4.0\" dy=\"4.0\" in=\"blurOut2\" result=\"blurOut3\"/><feBlend in=\"SourceGraphic\" in2=\"blurOut3\" mode=\"normal\"/></filter></defs><g><line style=\"stroke: #A80036; stroke-width: 1.0; stroke-dasharray: 5.0,5.0;\" x1=\"32\" x2=\"32\" y1=\"41.1201\" y2=\"124.6289\"/><line style=\"stroke: #A80036; stroke-width: 1.0; stroke-dasharray: 5.0,5.0;\" x1=\"200.5\" x2=\"200.5\" y1=\"41.1201\" y2=\"124.6289\"/><rect fill=\"#FEFECE\" filter=\"url(#fsv0g7ub4djg1)\" height=\"33.1201\" style=\"stroke: #A80036; stroke-width: 1.5;\" width=\"44\" x=\"8\" y=\"3\"/><text fill=\"#000000\" font-family=\"sans-serif\" font-size=\"14\" lengthAdjust=\"spacingAndGlyphs\" textLength=\"30\" x=\"15\" y=\"26.0439\">Alice</text><rect fill=\"#FEFECE\" filter=\"url(#fsv0g7ub4djg1)\" height=\"33.1201\" style=\"stroke: #A80036; stroke-width: 1.5;\" width=\"44\" x=\"8\" y=\"123.6289\"/><text fill=\"#000000\" font-family=\"sans-serif\" font-size=\"14\" lengthAdjust=\"spacingAndGlyphs\" textLength=\"30\" x=\"15\" y=\"146.6729\">Alice</text><rect fill=\"#FEFECE\" filter=\"url(#fsv0g7ub4djg1)\" height=\"33.1201\" style=\"stroke: #A80036; stroke-width: 1.5;\" width=\"39\" x=\"179.5\" y=\"3\"/><text fill=\"#000000\" font-family=\"sans-serif\" font-size=\"14\" lengthAdjust=\"spacingAndGlyphs\" textLength=\"25\" x=\"186.5\" y=\"26.0439\">Bob</text><rect fill=\"#FEFECE\" filter=\"url(#fsv0g7ub4djg1)\" height=\"33.1201\" style=\"stroke: #A80036; stroke-width: 1.5;\" width=\"39\" x=\"179.5\" y=\"123.6289\"/><text fill=\"#000000\" font-family=\"sans-serif\" font-size=\"14\" lengthAdjust=\"spacingAndGlyphs\" textLength=\"25\" x=\"186.5\" y=\"146.6729\">Bob</text><polygon fill=\"#A80036\" points=\"189,70.1201,199,74.1201,189,78.1201,193,74.1201\" style=\"stroke: #A80036; stroke-width: 1.0;\"/><line style=\"stroke: #A80036; stroke-width: 1.0;\" x1=\"32\" x2=\"195\" y1=\"74.1201\" y2=\"74.1201\"/><text fill=\"#000000\" font-family=\"sans-serif\" font-size=\"13\" lengthAdjust=\"spacingAndGlyphs\" textLength=\"135\" x=\"39\" y=\"70.0181\">Authentication Request</text><polygon fill=\"#A80036\" points=\"43,101.8745,33,105.8745,43,109.8745,39,105.8745\" style=\"stroke: #A80036; stroke-width: 1.0;\"/><line style=\"stroke: #A80036; stroke-width: 1.0; stroke-dasharray: 2.0,2.0;\" x1=\"37\" x2=\"200\" y1=\"105.8745\" y2=\"105.8745\"/><text fill=\"#000000\" font-family=\"sans-serif\" font-size=\"13\" lengthAdjust=\"spacingAndGlyphs\" textLength=\"145\" x=\"49\" y=\"101.7725\">Authentication Response</text><!--\n",
       "@startuml\n",
       "Alice -> Bob: Authentication Request\n",
       "Bob - -> Alice: Authentication Response\n",
       "@enduml\n",
       "\n",
       "PlantUML version 1.2017.15(Tue Jul 04 00:45:34 CST 2017)\n",
       "(GPL source distribution)\n",
       "Java Runtime: Java(TM) SE Runtime Environment\n",
       "JVM: Java HotSpot(TM) 64-Bit Server VM\n",
       "Java Version: 1.6.0_13-b03\n",
       "Operating System: Windows Vista\n",
       "OS Version: 6.2\n",
       "Default Encoding: GBK\n",
       "Language: zh\n",
       "Country: CN\n",
       "--></g></svg>"
      ],
      "text/plain": [
       "<IPython.core.display.SVG object>"
      ]
     },
     "execution_count": 12,
     "metadata": {},
     "output_type": "execute_result"
    }
   ],
   "source": [
    "%%plantuml figure1\n",
    "\n",
    "@startuml\n",
    "Alice -> Bob: Authentication Request\n",
    "Bob --> Alice: Authentication Response\n",
    "@enduml"
   ]
  },
  {
   "cell_type": "markdown",
   "metadata": {
    "collapsed": true
   },
   "source": [
    "# Matrix \n",
    "$$\n",
    "M = \\left[\n",
    "\\begin{matrix}\n",
    "1 & 0 & t_x \\\\\n",
    "0 & 1 & t_y\n",
    "\\end{matrix}\n",
    "\\right]\n",
    "$$"
   ]
  },
  {
   "cell_type": "markdown",
   "metadata": {},
   "source": [
    "# Table\n",
    "|Function|Description|Memo|\n",
    "|:-|-:|:-:|\n",
    "|Row2 Col1 |Row2 Col2|\\$1600|\n",
    "|Row3 Col1|Row3 Col2|\\$12|\n",
    "|zebra stripes|are neat|\\$1|\n"
   ]
  },
  {
   "cell_type": "code",
   "execution_count": null,
   "metadata": {
    "collapsed": true
   },
   "outputs": [],
   "source": []
  }
 ],
 "metadata": {
  "kernelspec": {
   "display_name": "Python [conda env:RoboND]",
   "language": "python",
   "name": "conda-env-RoboND-py"
  },
  "language_info": {
   "codemirror_mode": {
    "name": "ipython",
    "version": 3
   },
   "file_extension": ".py",
   "mimetype": "text/x-python",
   "name": "python",
   "nbconvert_exporter": "python",
   "pygments_lexer": "ipython3",
   "version": "3.5.2"
  },
  "latex_envs": {
   "LaTeX_envs_menu_present": true,
   "autocomplete": true,
   "bibliofile": "biblio.bib",
   "cite_by": "apalike",
   "current_citInitial": 1,
   "eqLabelWithNumbers": true,
   "eqNumInitial": 1,
   "hotkeys": {
    "equation": "Ctrl-E",
    "itemize": "Ctrl-I"
   },
   "labels_anchors": false,
   "latex_user_defs": false,
   "report_style_numbering": false,
   "user_envs_cfg": false
  },
  "toc": {
   "colors": {
    "hover_highlight": "#DAA520",
    "navigate_num": "#000000",
    "navigate_text": "#333333",
    "running_highlight": "#FF0000",
    "selected_highlight": "#FFD700",
    "sidebar_border": "#EEEEEE",
    "wrapper_background": "#FFFFFF"
   },
   "moveMenuLeft": true,
   "nav_menu": {
    "height": "12px",
    "width": "252px"
   },
   "navigate_menu": true,
   "number_sections": true,
   "sideBar": true,
   "threshold": 4,
   "toc_cell": false,
   "toc_section_display": "block",
   "toc_window_display": false,
   "widenNotebook": false
  }
 },
 "nbformat": 4,
 "nbformat_minor": 2
}
